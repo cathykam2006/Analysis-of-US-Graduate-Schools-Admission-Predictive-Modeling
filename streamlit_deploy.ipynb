{
 "cells": [
  {
   "cell_type": "code",
   "execution_count": 33,
   "metadata": {},
   "outputs": [
    {
     "data": {
      "text/plain": [
       "<streamlit.DeltaGenerator.DeltaGenerator at 0x10a747c90>"
      ]
     },
     "execution_count": 33,
     "metadata": {},
     "output_type": "execute_result"
    }
   ],
   "source": [
    "import streamlit as st\n",
    "\n",
    "import pickle\n",
    "\n",
    "import numpy as np\n",
    "\n",
    "from sklearn import linear_model\n",
    "\n",
    "st.write(\"\"\"\n",
    "# Welcome to the U.S. Master Admission Rate Predictor (by Cathy Kam)\n",
    "\"\"\")\n",
    "\n",
    "st.markdown(\"This app allows you to predict your successful admission rate of U.S. master's degrees. You will be evaluated based on several parameters - namely a. GRE Scores; b. TOEFL Scores, c. University Rating, d. Statement of Purpose, e. Letter of Recommendation, f. Cumulative GPA, g. Research Experience respectively.\")"
   ]
  },
  {
   "cell_type": "code",
   "execution_count": 30,
   "metadata": {},
   "outputs": [],
   "source": [
    "#Receive input \n",
    "\n",
    "# GRE Scores ( out of 340 ) \n",
    "gre_scores = st.selectbox('Select the range of GRE Scores that you got: ',(>300, '300-320', '320-340'))\n",
    "st.write('You selected:', gre_scores)\n",
    "\n",
    "# TOEFL Scores ( out of 120 )\n",
    "toefl_scores = st.selectbox('Select the range of TOEFL Scores that you got: ',('0-90', '90-100', '100-120'))\n",
    "st.write('You selected:', toefl_scores)\n",
    "\n",
    "# University Rating ( out of 5 )\n",
    "\n",
    "uni_rating = st.slider('Rate your current University Rating - 5 is the highest', 1, 5) \n",
    "#the minimum number is 1, 5 is the maximum number, the numbers within the bracket are the ranges you can select within\n",
    "st.write(uni_rating)\n",
    "\n",
    "\n",
    "# Statement of Purpose ( out of 5 )\n",
    "sop = st.slider('Rate your Statement of Purpose - 5 is the highest', 1, 5) \n",
    "st.write(sop)\n",
    "\n",
    "# Letter of Recommendation ( out of 5 )\n",
    "lor = st.slider('Rate your Letter of Recommendation - 5 is the highest', 1, 5) \n",
    "st.write(lor)\n",
    "\n",
    "# Cumulative GPA ( out of 10 )\n",
    "cgpa = st.slider('Rate your Cumulative GPA - on a scale of 10', 1, 10) \n",
    "st.write(cgpa)\n",
    "\n",
    "# Research Experience ( either 0 or 1 )\n",
    "research = st.selectbox('Do you have solid research experience?',('0 - No', '1 - Yes'))\n",
    "st.write('You selected:', research)\n",
    "\n",
    "#student = [gre_scores, toefl_scores, uni_rating, sop, lor, cgpa, research]\n",
    "\n",
    "student = [gre_scores, toefl_scores, uni_rating, sop, lor, cgpa, research]\n"
   ]
  },
  {
   "cell_type": "code",
   "execution_count": 31,
   "metadata": {},
   "outputs": [],
   "source": [
    "#Open the saved model\n",
    "filename = 'us_ad_linear1.sav'\n",
    "loaded_model = pickle.load(open(filename, 'rb'))\n"
   ]
  },
  {
   "cell_type": "code",
   "execution_count": 32,
   "metadata": {},
   "outputs": [],
   "source": [
    "#Run the predictor \n",
    "\n",
    "student = np.asarray(student)\n",
    "\n",
    "rescaledX_student = student.reshape(1,-1)\n",
    "\n",
    "student_pred = loaded_model.predict(rescaledX_student)\n",
    "\n",
    "st.write(student_pred)"
   ]
  },
  {
   "cell_type": "code",
   "execution_count": 23,
   "metadata": {},
   "outputs": [],
   "source": [
    "#Print output \n",
    "\n",
    "if student_pred[0] >= 0.72:\n",
    "    st.write(\"Congratulations! You're very likely to be successful!\")\n",
    "    \n",
    "elif student_pred[0] >= 0.64 < 0.72:\n",
    "    st.write(\"Good! You have a decent chance.\")\n",
    "    \n",
    "else:\n",
    "    st.write(\"Emm...maybe you need to work harder to secure the admission.\")"
   ]
  },
  {
   "cell_type": "code",
   "execution_count": null,
   "metadata": {},
   "outputs": [],
   "source": []
  }
 ],
 "metadata": {
  "kernelspec": {
   "display_name": "Python 3",
   "language": "python",
   "name": "python3"
  },
  "language_info": {
   "codemirror_mode": {
    "name": "ipython",
    "version": 3
   },
   "file_extension": ".py",
   "mimetype": "text/x-python",
   "name": "python",
   "nbconvert_exporter": "python",
   "pygments_lexer": "ipython3",
   "version": "3.7.7"
  }
 },
 "nbformat": 4,
 "nbformat_minor": 4
}
